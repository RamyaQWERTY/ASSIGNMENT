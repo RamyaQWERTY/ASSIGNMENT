{
  "nbformat": 4,
  "nbformat_minor": 0,
  "metadata": {
    "colab": {
      "provenance": []
    },
    "kernelspec": {
      "name": "python3",
      "display_name": "Python 3"
    },
    "language_info": {
      "name": "python"
    }
  },
  "cells": [
    {
      "cell_type": "code",
      "source": [
        "#problem 1\n",
        "def is_valid_tag(tag):\n",
        "    vowels = set(\"AEIOUY\")\n",
        "\n",
        "    # Check if the tag length is 9\n",
        "    if len(tag) != 9:\n",
        "        return False\n",
        "\n",
        "    # Check if all characters are either digits or alphabets\n",
        "    if tag.isdigit() or tag.isalpha():\n",
        "        return False\n",
        "\n",
        "    # Check if the letter is a vowel\n",
        "    if tag[2].upper() in vowels:\n",
        "        return False\n",
        "\n",
        "    # Check if D is a non-zero digit\n",
        "    if '0' in tag:\n",
        "        return False\n",
        "\n",
        "    return True\n",
        "\n",
        "    # Check the sum of consecutive digits\n",
        "    digit_pairs = [(0, 1), (3, 4), (4, 5), (7, 8)]\n",
        "    for i, j in digit_pairs:\n",
        "        if tag[i].isdigit() and tag[j].isdigit():\n",
        "            if (int(tag[i]) + int(tag[j])) % 2 != 0:\n",
        "                return False\n",
        "\n",
        "    return True\n",
        "\n",
        "# Main program\n",
        "tag = input(\"Enter a tag: \").strip()\n",
        "if is_valid_tag(tag):\n",
        "    print(\"Valid tag\")\n",
        "else:\n",
        "    print(\"Invalid tag\")\n"
      ],
      "metadata": {
        "colab": {
          "base_uri": "https://localhost:8080/"
        },
        "id": "dZR7lmYIzcEi",
        "outputId": "6de4ccce-aa6b-4a3a-d8d7-9ed282a17829"
      },
      "execution_count": 31,
      "outputs": [
        {
          "output_type": "stream",
          "name": "stdout",
          "text": [
            "Enter a tag: 17V315-42\n",
            "Valid tag\n"
          ]
        }
      ]
    }
  ]
}