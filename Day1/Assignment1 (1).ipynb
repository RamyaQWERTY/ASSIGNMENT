{
  "nbformat": 4,
  "nbformat_minor": 0,
  "metadata": {
    "colab": {
      "provenance": []
    },
    "kernelspec": {
      "name": "python3",
      "display_name": "Python 3"
    },
    "language_info": {
      "name": "python"
    }
  },
  "cells": [
    {
      "cell_type": "code",
      "source": [
        "#problem 1\n",
        "#checking input pattern\n",
        "import re\n",
        "\n",
        "input_string = input(\"Enter the input pattern in the format 'DDXDDD-DD': \")\n",
        "valid = bool(re.match(r'^\\d{2}[A-Z]\\d{3}-\\d{2}$', input_string))\n",
        "\n",
        "print(\"The input pattern is valid.\" if valid else \"Invalid input pattern. Please provide a valid input in the format 'DDXDDD-DD'.\")\n"
      ],
      "metadata": {
        "colab": {
          "base_uri": "https://localhost:8080/"
        },
        "id": "EWdtEGBMVrLp",
        "outputId": "e57a2f67-2b5c-403a-f296-15f8fa2c53a5"
      },
      "execution_count": null,
      "outputs": [
        {
          "output_type": "stream",
          "name": "stdout",
          "text": [
            "Enter the input pattern in the format 'DDXDDD-DD': 22C645-99\n",
            "The input pattern is valid.\n"
          ]
        }
      ]
    },
    {
      "cell_type": "code",
      "source": [
        "#checking for vowels\n",
        "letter = input(\"Enter a letter: \")\n",
        "is_consonant = letter.upper() not in set(\"AEIOUY\")\n",
        "print(\"The letter is a consonant.\" if is_consonant else \"The letter is a vowel.\")\n"
      ],
      "metadata": {
        "colab": {
          "base_uri": "https://localhost:8080/"
        },
        "id": "C1PPKay1WhQw",
        "outputId": "0661b186-78d3-4d66-b1db-b3ca1f68d46d"
      },
      "execution_count": null,
      "outputs": [
        {
          "output_type": "stream",
          "name": "stdout",
          "text": [
            "Enter a letter: 22C645-99\n",
            "The letter is a consonant.\n"
          ]
        }
      ]
    },
    {
      "cell_type": "code",
      "source": [
        "#checking the sum of consecutive digits are even\n",
        "input_string = input(\"Enter a string: \")\n",
        "is_sum_even = all((int(input_string[i]) + int(input_string[i+1])) % 2 == 0 for i in range(len(input_string) - 1) if input_string[i].isdigit() and input_string[i+1].isdigit())\n",
        "print(\"The sum of consecutive digits is even.\" if is_sum_even else \"The sum of consecutive digits is not even.\")\n"
      ],
      "metadata": {
        "colab": {
          "base_uri": "https://localhost:8080/"
        },
        "id": "6ERUbwD8WzWR",
        "outputId": "410fc241-03fe-4bf3-8471-ac11e132f808"
      },
      "execution_count": null,
      "outputs": [
        {
          "output_type": "stream",
          "name": "stdout",
          "text": [
            "Enter a string: 22C645-99\n",
            "The sum of consecutive digits is not even.\n"
          ]
        }
      ]
    },
    {
      "cell_type": "code",
      "source": [
        "#full code\n",
        "def is_valid_tag(tag):\n",
        "    # Check if the sum of every two consecutive digits is even\n",
        "    for i in range(0, len(tag) - 1, 2):\n",
        "        if (int(tag[i]) + int(tag[i + 1])) % 2 != 0:\n",
        "            return False\n",
        "\n",
        "    # Check if the letter is not a vowel\n",
        "    vowels = set(\"AEIOUY\")\n",
        "    letter = tag[2]\n",
        "    if letter in vowels:\n",
        "        return False\n",
        "\n",
        "    return True\n",
        "\n",
        "# Input tag from the user\n",
        "tag = input()\n",
        "\n",
        "# Validate the tag\n",
        "if len(tag) == 9 and tag[2] == tag[6] == '-':\n",
        "    if is_valid_tag(tag):\n",
        "        print(\"valid\")\n",
        "    else:\n",
        "        print(\"invalid\")\n",
        "else:\n",
        "    print(\"valid.\" if is_valid_tag else \"invalid\")\n"
      ],
      "metadata": {
        "colab": {
          "base_uri": "https://localhost:8080/"
        },
        "id": "-SE85tPRYxw-",
        "outputId": "395e7dce-1a89-4066-f67d-c352864d9bd6"
      },
      "execution_count": null,
      "outputs": [
        {
          "output_type": "stream",
          "name": "stdout",
          "text": [
            "22A222-22\n",
            "valid.\n"
          ]
        }
      ]
    },
    {
      "cell_type": "code",
      "source": [
        "#problem 2\n",
        "MOD = 10**9 + 7\n",
        "\n",
        "# Input size of the array\n",
        "N = int(input())\n",
        "if not (1 <= N <= 10**3):\n",
        "    print(\"Invalid array size.\")\n",
        "    exit()\n",
        "\n",
        "# Input elements of the array\n",
        "A = list(map(int, input().split()))\n",
        "if not all(1 <= num <= 10**3 for num in A):\n",
        "    print(\"Invalid array elements.\")\n",
        "    exit()\n",
        "\n",
        "# Calculate the product modulo MOD\n",
        "product = 1\n",
        "for num in A:\n",
        "    product = (product * num) % MOD\n",
        "\n",
        "# Print the result in the desired output format\n",
        "print(product)\n"
      ],
      "metadata": {
        "colab": {
          "base_uri": "https://localhost:8080/"
        },
        "id": "a0UItIablB-P",
        "outputId": "959db72a-64c6-44e6-9540-314606747754"
      },
      "execution_count": null,
      "outputs": [
        {
          "output_type": "stream",
          "name": "stdout",
          "text": [
            "6\n",
            "1 2 3 4 5 6\n",
            "720\n"
          ]
        }
      ]
    }
  ]
}